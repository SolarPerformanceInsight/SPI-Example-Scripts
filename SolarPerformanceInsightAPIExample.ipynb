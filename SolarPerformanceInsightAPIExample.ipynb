{
 "cells": [
  {
   "cell_type": "code",
   "execution_count": 15,
   "id": "09500682",
   "metadata": {},
   "outputs": [],
   "source": [
    "import requests\n",
    "import os\n",
    "\n",
    "# These values are used for retrieving a token and can be found in the\n",
    "# API documentation at https://app.solarperformanceinsight.org/api/docs\n",
    "TOKEN_ENDPOINT=\"https://solarperformanceinsight.us.auth0.com/oauth/token\"\n",
    "AUDIENCE=\"https://app.solarperformanceinsight.org/api\"\n",
    "CLIENT_ID = \"G7Cag1LvitX0sOUOrYz03xv6xyl3bE9s\"\n",
    "\n",
    "USERNAME = os.getenv(\"SPI_USERNAME\")\n",
    "PASSWORD = os.getenv(\"SPI_PASSWORD\")"
   ]
  },
  {
   "cell_type": "code",
   "execution_count": 17,
   "id": "85dbba66",
   "metadata": {},
   "outputs": [],
   "source": [
    "# Request API Access token for the Solar Performance Insight api. The JSON response\n",
    "# will contain the token in the 'access_token' field and a time until token expiration\n",
    "# in seconds in the 'expires_in' field.\n",
    "# \n",
    "# This token is passed in the 'Authorization' HTTP header when making requests to the\n",
    "# Solar Performance Insight API by setting the header to: `Bearer {token}`\n",
    "response = requests.post(\n",
    "    TOKEN_ENDPOINT,\n",
    "    data={\n",
    "        \"audience\": AUDIENCE,\n",
    "        \"grant_type\": \"password\",\n",
    "        \"username\": USERNAME,\n",
    "        \"password\": PASSWORD,\n",
    "        \"client_id\": CLIENT_ID\n",
    "    },\n",
    ")\n",
    "token = response.json()[\"access_token\"]"
   ]
  },
  {
   "cell_type": "code",
   "execution_count": 19,
   "id": "a68f9abd",
   "metadata": {},
   "outputs": [],
   "source": [
    "# Defines a PV System Model located at the University of Arizona.\n",
    "# The expected form of this system definition can be found in the API documentation\n",
    "# here : https://app.solarperformanceinsight.org/api/docs#model-PVSystem\n",
    "\n",
    "system = {\n",
    "  \"name\": \"Tucson System\",\n",
    "  \"latitude\": 32.2,\n",
    "  \"longitude\": -110.9,\n",
    "  \"elevation\": 777.63,\n",
    "  # The system includes a single Inverter with a Single array.\n",
    "  \"inverters\": [\n",
    "    {\n",
    "      \"name\": \"Inverter 1\",\n",
    "      \"make_model\": \"\",\n",
    "      \"inverter_parameters\": {\n",
    "        \"pdc0\": 12000,\n",
    "        \"eta_inv_nom\": 0.96,\n",
    "        \"eta_inv_ref\": 0.9637\n",
    "      },\n",
    "      \"losses\": {\n",
    "        \"soiling\": 2,\n",
    "        \"shading\": 3,\n",
    "        \"snow\": 0,\n",
    "        \"mismatch\": 2,\n",
    "        \"wiring\": 2,\n",
    "        \"connections\": 0.5,\n",
    "        \"lid\": 1.5,\n",
    "        \"nameplate_rating\": 1,\n",
    "        \"age\": 0,\n",
    "        \"availability\": 3\n",
    "      },\n",
    "      \"arrays\": [\n",
    "        {\n",
    "          \"name\": \"Array 1\",\n",
    "          \"make_model\": \"\",\n",
    "          \"albedo\": 0.2,\n",
    "          \"modules_per_string\": 50,\n",
    "          \"strings\": 1,\n",
    "          \"module_parameters\": {\n",
    "            \"pdc0\": 270,\n",
    "            \"gamma_pdc\": -0.3\n",
    "          },\n",
    "          \"tracking\": {\n",
    "            \"tilt\": 25,\n",
    "            \"azimuth\": 180\n",
    "          },\n",
    "          \"temperature_model_parameters\": {\n",
    "            \"a\": -3.47,\n",
    "            \"b\": -0.0594,\n",
    "            \"deltaT\": 3\n",
    "          }\n",
    "        }\n",
    "      ]\n",
    "    }\n",
    "  ]\n",
    "}"
   ]
  },
  {
   "cell_type": "code",
   "execution_count": 20,
   "id": "a28e7279",
   "metadata": {},
   "outputs": [],
   "source": [
    "# Post the system definition to the API. This will create the system and return a unique\n",
    "# system identifier in the 'object_id' field of the JSON response.\n",
    "post_request = requests.post(\n",
    "    AUDIENCE + \"/systems/\",\n",
    "    headers={\n",
    "        \"Authorization\": f\"Bearer {token}\",\n",
    "    },\n",
    "    json=system\n",
    ")\n",
    "system_id = post_request.json()[\"object_id\"]"
   ]
  },
  {
   "cell_type": "code",
   "execution_count": 21,
   "id": "4c93a335",
   "metadata": {},
   "outputs": [],
   "source": [
    "# At this point the new system should exist in the list of Systems retrieved\n",
    "# by making a GET request to the API's /systems/.\n",
    "\n",
    "# The systems metadata can be retrieved with a GET request to the /systems/{system_id}\n",
    "system_metadata = requests.get(\n",
    "    AUDIENCE + f\"/systems/{system_id}\",\n",
    "    headers={\n",
    "        \"Authorization\": f\"Bearer {token}\"\n",
    "    }\n",
    ").json()[\"definition\"]\n",
    "\n",
    "# The system can be updated by making a POST request to /systems/{system_id} with\n",
    "# an updated system definition.\n",
    "system_metadata[\"elevation\"] = 778.63\n",
    "\n",
    "update_request = requests.post(\n",
    "    AUDIENCE + f\"/systems/{system_id}\",\n",
    "    headers={\n",
    "        \"Authorization\": f\"Bearer {token}\"\n",
    "    },\n",
    "    json=system_metadata\n",
    ")"
   ]
  },
  {
   "cell_type": "code",
   "execution_count": 22,
   "id": "e9b68573",
   "metadata": {},
   "outputs": [],
   "source": [
    "# Calculating the system's reference performance from reference weather\n",
    "\n",
    "# We run a calculation by defining a job. Below is a definition for calculating\n",
    "# reference performance from reference weather data. \"Reference\" describes\n",
    "# predicted data utilized during the design of a system.\n",
    "\n",
    "job_definition = {\n",
    "    # Id of the system we'd like to calculate performance for\n",
    "    \"system_id\": system_id,\n",
    "    \n",
    "    # Calculate reference performance\n",
    "    \"calculate\": \"reference performance\",\n",
    "    \n",
    "    # Calculate performance from January 1st 2019 at midnight to February 1st 2019 at midnight,\n",
    "    # using input data with a 5 minute time step.\n",
    "    \"time_parameters\": {\n",
    "        \"start\": \"2019-01-01T00:00-07:00\",\n",
    "        \"end\": \"2019-02-01T00:00-07:00\",\n",
    "        \"step\": 300, # time in seconds\n",
    "        \"timezone\": \"America/Phoenix\"\n",
    "    },\n",
    "    \n",
    "    # Input weather data contains \"standard\" irradiance components(ghi, dni, an dhi). Other options\n",
    "    # are \"poa\" (poa global, poa diffuse, and poa direct) and \"effective\" (effective irradiance)\n",
    "    \"irradiance_type\": \"standard\",\n",
    "    \n",
    "    # Cell temperature is required for the\n",
    "    # calculation. We can calculate cell temperature from irradiance, air temperature and\n",
    "    # windspeed with a \"temperature_type\" of \"air\", calculate from module temperature and\n",
    "    # irradiance with \"temperature_type\" of \"module\" or provide it directly with a temperature\n",
    "    # type of \"cell\". Our Input data includes air temperature and windspeed. \n",
    "    \"temperature_type\": \"air\",\n",
    "    \n",
    "    # Input data includes weather measurements for the whole system. Optionally we could\n",
    "    # provide weather for each inverter with a \"weather_granularity\" of \"inverter\" and \n",
    "    # per-array level with \"weather_granularity\" of \"array\" or \n",
    "    \"weather_granularity\": \"system\"\n",
    "}\n",
    "\n",
    "# Post the job definition to the API's /jobs/ endpoint, and get the created job's unique\n",
    "# identifier from the reponse's \"object_id\" field. This will create endpoints for us\n",
    "# to post our data to.\n",
    "job_id = requests.post(\n",
    "    AUDIENCE + \"/jobs/\",\n",
    "    headers={\n",
    "        \"Authorization\": f\"Bearer {token}\"\n",
    "    },\n",
    "    json=job_definition\n",
    ").json()[\"object_id\"]\n"
   ]
  },
  {
   "cell_type": "code",
   "execution_count": 23,
   "id": "37f662a5",
   "metadata": {},
   "outputs": [],
   "source": [
    "# We can now access job metadata to view the expected data, and the jobs status.\n",
    "job = requests.get(\n",
    "    AUDIENCE + f\"/jobs/{job_id}\",\n",
    "    headers={\n",
    "        \"Authorization\": f\"Bearer {token}\"\n",
    "    }\n",
    ").json()"
   ]
  },
  {
   "cell_type": "code",
   "execution_count": 24,
   "id": "6f46698d",
   "metadata": {
    "collapsed": true
   },
   "outputs": [
    {
     "data": {
      "text/plain": [
       "{'status': 'incomplete', 'last_change': '2021-05-13T22:18:42+00:00'}"
      ]
     },
     "execution_count": 24,
     "metadata": {},
     "output_type": "execute_result"
    }
   ],
   "source": [
    "# Job status will be incomplete, as we haven't provided any data yet.\n",
    "job[\"status\"]"
   ]
  },
  {
   "cell_type": "code",
   "execution_count": 25,
   "id": "dc358e53",
   "metadata": {},
   "outputs": [],
   "source": [
    "# The job's \"data_objects\" field contains a list of expected sets of data. In this case,\n",
    "# it contains a set of weather data for the whole system (indicated by schema_path: \"/\",\n",
    "# which is the root of the system), the type of data is \"reference weather data\", and\n",
    "# the expected variables (data_columns) are time, ghi, dni, dhi, temp_air,\n",
    "# and wind_speed as declared by the irradiance_type and temperature_type in the job\n",
    "# definition. Since we haven't provided any data yet, the object's \"present\" field is\n",
    "# set to False.\n",
    "data_object = job[\"data_objects\"][0]\n",
    "data_object_id = data_object[\"object_id\"]\n",
    "\n",
    "\n",
    "# Data is provided by making a POST request to the API's /jobs/{job_id}/data/{data_object_id}\n",
    "# endpoint. Data can be provided as either a csv or Apache Arrow file.\n",
    "with open(\"demo_month_reference_weather.csv\", \"r\") as f:\n",
    "    data_post_request = requests.post(\n",
    "        AUDIENCE + f\"/jobs/{job_id}/data/{data_object_id}\",\n",
    "        headers={\n",
    "            \"Authorization\": f\"Bearer {token}\",\n",
    "        },\n",
    "        files={\"file\": (\"demo_month_reference_weather.csv\", f, \"text/csv\")}\n",
    "    )\n"
   ]
  },
  {
   "cell_type": "code",
   "execution_count": 26,
   "id": "350e911d",
   "metadata": {
    "collapsed": true
   },
   "outputs": [
    {
     "data": {
      "text/plain": [
       "True"
      ]
     },
     "execution_count": 26,
     "metadata": {},
     "output_type": "execute_result"
    }
   ],
   "source": [
    "# We can now access job metadata and see that the data_object is now present.\n",
    "job = requests.get(\n",
    "    AUDIENCE + f\"/jobs/{job_id}\",\n",
    "    headers={\n",
    "        \"Authorization\": f\"Bearer {token}\"\n",
    "    }\n",
    ").json()\n",
    "job[\"data_objects\"][0][\"definition\"][\"present\"]"
   ]
  },
  {
   "cell_type": "code",
   "execution_count": 27,
   "id": "d33075f6",
   "metadata": {
    "collapsed": true
   },
   "outputs": [
    {
     "data": {
      "text/plain": [
       "{'status': 'prepared', 'last_change': '2021-05-13T22:18:57+00:00'}"
      ]
     },
     "execution_count": 27,
     "metadata": {},
     "output_type": "execute_result"
    }
   ],
   "source": [
    "# And the job's status is now \"prepared\"\n",
    "job[\"status\"]"
   ]
  },
  {
   "cell_type": "code",
   "execution_count": 28,
   "id": "2d99a4ed",
   "metadata": {
    "collapsed": true
   },
   "outputs": [
    {
     "data": {
      "text/plain": [
       "<Response [202]>"
      ]
     },
     "execution_count": 28,
     "metadata": {},
     "output_type": "execute_result"
    }
   ],
   "source": [
    "# Job execution is triggered by making an empty POST request to the\n",
    "# /jobs/{job_id}/compute endpoint\n",
    "requests.post(\n",
    "    AUDIENCE + f\"/jobs/{job_id}/compute\",\n",
    "    headers={\"Authorization\": f\"Bearer {token}\"}\n",
    ")"
   ]
  },
  {
   "cell_type": "code",
   "execution_count": 29,
   "id": "def9a207",
   "metadata": {
    "collapsed": true
   },
   "outputs": [
    {
     "data": {
      "text/plain": [
       "{'status': 'complete', 'last_change': '2021-05-13T22:19:03+00:00'}"
      ]
     },
     "execution_count": 29,
     "metadata": {},
     "output_type": "execute_result"
    }
   ],
   "source": [
    "# Fetching the job again, we can see that the status is now \"complete\"\n",
    "job = requests.get(\n",
    "    AUDIENCE + f\"/jobs/{job_id}\",\n",
    "    headers={\n",
    "        \"Authorization\": f\"Bearer {token}\"\n",
    "    }\n",
    ").json()\n",
    "job[\"status\"]"
   ]
  },
  {
   "cell_type": "code",
   "execution_count": 30,
   "id": "75bf3080",
   "metadata": {
    "collapsed": true
   },
   "outputs": [
    {
     "data": {
      "text/plain": [
       "[{'object_id': '3963d00f-b439-11eb-80ba-569761ad8884',\n",
       "  'object_type': 'job_result',\n",
       "  'created_at': '2021-05-13T22:19:03+00:00',\n",
       "  'modified_at': '2021-05-13T22:19:03+00:00',\n",
       "  'definition': {'type': 'weather data',\n",
       "   'schema_path': '/inverters/0/arrays/0',\n",
       "   'data_format': 'application/vnd.apache.arrow.file'}},\n",
       " {'object_id': '3965e213-b439-11eb-80ba-569761ad8884',\n",
       "  'object_type': 'job_result',\n",
       "  'created_at': '2021-05-13T22:19:03+00:00',\n",
       "  'modified_at': '2021-05-13T22:19:03+00:00',\n",
       "  'definition': {'type': 'performance data',\n",
       "   'schema_path': '/inverters/0',\n",
       "   'data_format': 'application/vnd.apache.arrow.file'}},\n",
       " {'object_id': '3966359a-b439-11eb-80ba-569761ad8884',\n",
       "  'object_type': 'job_result',\n",
       "  'created_at': '2021-05-13T22:19:03+00:00',\n",
       "  'modified_at': '2021-05-13T22:19:03+00:00',\n",
       "  'definition': {'type': 'monthly summary',\n",
       "   'schema_path': '/',\n",
       "   'data_format': 'application/vnd.apache.arrow.file'}},\n",
       " {'object_id': '3967ab10-b439-11eb-80ba-569761ad8884',\n",
       "  'object_type': 'job_result',\n",
       "  'created_at': '2021-05-13T22:19:03+00:00',\n",
       "  'modified_at': '2021-05-13T22:19:03+00:00',\n",
       "  'definition': {'type': 'daytime flag',\n",
       "   'schema_path': '/',\n",
       "   'data_format': 'application/vnd.apache.arrow.file'}},\n",
       " {'object_id': '3969d6ad-b439-11eb-80ba-569761ad8884',\n",
       "  'object_type': 'job_result',\n",
       "  'created_at': '2021-05-13T22:19:03+00:00',\n",
       "  'modified_at': '2021-05-13T22:19:03+00:00',\n",
       "  'definition': {'type': 'performance data',\n",
       "   'schema_path': '/',\n",
       "   'data_format': 'application/vnd.apache.arrow.file'}}]"
      ]
     },
     "execution_count": 30,
     "metadata": {},
     "output_type": "execute_result"
    }
   ],
   "source": [
    "# The calculated job results can be accessed via tha \n",
    "# /jobs/{job_id}/results endpoint\n",
    "\n",
    "results = requests.get(\n",
    "    AUDIENCE + f\"/jobs/{job_id}/results\",\n",
    "    headers={\n",
    "        \"Authorization\": f\"Bearer {token}\"\n",
    "    }\n",
    ").json()\n",
    "# The endpoint returns a list of the data produced by the job.\n",
    "# Each result has a \"type\" field, e.g. \"weather data\",\n",
    "# \"performance data\", or \"monthly summary\" and a \"schema_path\"\n",
    "# field that indicates the System component that the data \n",
    "# is associated with, e.g. /inverters/0/arrays/0 indicates\n",
    "# data for the first Array of the first Inverter for the system.\n",
    "results"
   ]
  },
  {
   "cell_type": "code",
   "execution_count": 88,
   "id": "759375d2",
   "metadata": {},
   "outputs": [],
   "source": [
    "# Single results can be retrieved by sending a GET request to the API's\n",
    "# /jobs/{job_id}/results/{result_id}. Results can be retrieved as CSVs\n",
    "# or Apache Arrow files by adjusting the request's Accept Header.\n",
    "\n",
    "result_id = results[0][\"object_id\"]\n",
    "\n",
    "csv_request = requests.get(\n",
    "    AUDIENCE + f\"/jobs/{job_id}/results/{result_id}\",\n",
    "    headers={\n",
    "        \"Authorization\": f\"Bearer {token}\",\n",
    "        \"Accept\": \"text/csv\",\n",
    "    }\n",
    ")"
   ]
  },
  {
   "cell_type": "code",
   "execution_count": 94,
   "id": "85577014",
   "metadata": {},
   "outputs": [],
   "source": [
    "import pandas as pd\n",
    "from io import StringIO\n",
    "\n",
    "# The CSV can be read into a pandas dataframe for further processing\n",
    "df = pd.read_csv(StringIO(csv_request.text))\n",
    "df"
   ]
  }
 ],
 "metadata": {
  "kernelspec": {
   "display_name": "Python 3",
   "language": "python",
   "name": "python3"
  },
  "language_info": {
   "codemirror_mode": {
    "name": "ipython",
    "version": 3
   },
   "file_extension": ".py",
   "mimetype": "text/x-python",
   "name": "python",
   "nbconvert_exporter": "python",
   "pygments_lexer": "ipython3",
   "version": "3.7.10"
  }
 },
 "nbformat": 4,
 "nbformat_minor": 5
}
